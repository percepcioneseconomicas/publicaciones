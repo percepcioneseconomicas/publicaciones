{
 "metadata": {
  "language_info": {
   "codemirror_mode": {
    "name": "ipython",
    "version": 3
   },
   "file_extension": ".py",
   "mimetype": "text/x-python",
   "name": "python",
   "nbconvert_exporter": "python",
   "pygments_lexer": "ipython3",
   "version": "3.7.9-final"
  },
  "orig_nbformat": 2,
  "kernelspec": {
   "name": "python3",
   "display_name": "Python 3"
  }
 },
 "nbformat": 4,
 "nbformat_minor": 2,
 "cells": [
  {
   "source": [
    "# Paquetes utilizados"
   ],
   "cell_type": "markdown",
   "metadata": {}
  },
  {
   "cell_type": "code",
   "execution_count": 1,
   "metadata": {},
   "outputs": [],
   "source": [
    "import pandas as pd\n",
    "import numpy as np\n",
    "import nltk\n",
    "import re\n",
    "import unidecode\n",
    "\n",
    "from sklearn.feature_extraction.text import CountVectorizer, TfidfVectorizer\n",
    "from sklearn.linear_model import LogisticRegression\n",
    "from sklearn.metrics import accuracy_score, roc_auc_score, f1_score"
   ]
  },
  {
   "source": [
    "# Carga de los datos"
   ],
   "cell_type": "markdown",
   "metadata": {}
  },
  {
   "cell_type": "code",
   "execution_count": 2,
   "metadata": {},
   "outputs": [],
   "source": [
    "# Se eliminan los textos que provinen de memorias y los que tienen respuestas neutrales.\n",
    "data = pd.read_csv('Sentimientos.csv')\n",
    "data['response'][data['response'] == 2.0] = 0\n",
    "data = data.dropna().reset_index(drop=True)\n",
    "data = data[['response', 'texto']]"
   ]
  },
  {
   "source": [
    "# Pre-procesamiento"
   ],
   "cell_type": "markdown",
   "metadata": {}
  },
  {
   "cell_type": "code",
   "execution_count": 3,
   "metadata": {},
   "outputs": [],
   "source": [
    "# Stopwords\n",
    "sw = pd.read_csv('spanish.txt', header=None, names=['stopwords'])\n",
    "stopwords = sw['stopwords'].tolist()\n",
    "\n",
    "# Función para pre-procesar textos\n",
    "def preprocess(s):\n",
    "    s = s.lower()\n",
    "    s = re.sub('[0-9]+', '', s) \n",
    "    s = re.sub('[!\"#$%&()*+,-./:;<=>¿?@[\\\\]^_`{|}~\\t—’‘“”]', '', s)\n",
    "    tokens = nltk.tokenize.word_tokenize(s) \n",
    "    tokens = [t for t in tokens if t not in stopwords] \n",
    "    tokens = [unidecode.unidecode(t) for t in tokens]\n",
    "    jtokens = ' '.join(tokens)\n",
    "    return jtokens"
   ]
  },
  {
   "cell_type": "code",
   "execution_count": 4,
   "metadata": {},
   "outputs": [],
   "source": [
    "# Preprocesamiento de los textos\n",
    "pdata = [preprocess(t) for t in data['texto']]"
   ]
  },
  {
   "cell_type": "code",
   "execution_count": 5,
   "metadata": {},
   "outputs": [],
   "source": [
    "# Vectorización\n",
    "vect1 = CountVectorizer(max_features=3000)\n",
    "vdat = vect1.fit_transform(pdata)\n",
    "data1 = pd.DataFrame(vdat.toarray(), columns=vect1.get_feature_names())\n",
    "\n",
    "vect2 = CountVectorizer(max_features=3000, ngram_range=(1,2))\n",
    "vdat = vect2.fit_transform(pdata)\n",
    "data2 = pd.DataFrame(vdat.toarray(), columns=vect2.get_feature_names())\n",
    "\n",
    "data1sum = data1.sum(axis=1)\n",
    "data3 = data1.divide(data1sum, axis=0)\n",
    "\n",
    "data2sum = data2.sum(axis=1)\n",
    "data4 = data2.divide(data2sum, axis=0)\n",
    "\n",
    "vect5 = TfidfVectorizer(max_features=3000)\n",
    "vdat = vect5.fit_transform(pdata)\n",
    "data5 = pd.DataFrame(vdat.toarray(), columns=vect5.get_feature_names())\n",
    "\n",
    "vect6 = TfidfVectorizer(max_features=3000, ngram_range=(1,2))\n",
    "vdat = vect6.fit_transform(pdata)\n",
    "data6 = pd.DataFrame(vdat.toarray(), columns=vect6.get_feature_names())"
   ]
  },
  {
   "source": [
    "# Modelo de clasificación"
   ],
   "cell_type": "markdown",
   "metadata": {}
  },
  {
   "cell_type": "code",
   "execution_count": 6,
   "metadata": {},
   "outputs": [],
   "source": [
    "# Separación de la muestra\n",
    "y = data['response']"
   ]
  },
  {
   "cell_type": "code",
   "execution_count": 7,
   "metadata": {},
   "outputs": [],
   "source": [
    "# DataFrames vacíos para almacenar los resultados \n",
    "predicciones = pd.DataFrame()"
   ]
  },
  {
   "cell_type": "code",
   "execution_count": 8,
   "metadata": {},
   "outputs": [],
   "source": [
    "# Dataframes con parámetros\n",
    "parametros_1 = pd.read_csv('parametros_1.csv', index_col=0)\n",
    "parametros_2 = pd.read_csv('parametros_2.csv', index_col=0)"
   ]
  },
  {
   "cell_type": "code",
   "execution_count": 9,
   "metadata": {},
   "outputs": [],
   "source": [
    "# Especificación de los modelos\n",
    "model1 = LogisticRegression(random_state=123, C=parametros_1.loc['data1'][0], penalty=parametros_1.loc['data1'][1])\n",
    "model2 = LogisticRegression(random_state=123, C=parametros_1.loc['data2'][0], penalty=parametros_1.loc['data2'][1])\n",
    "model3 = LogisticRegression(random_state=123, C=parametros_1.loc['data3'][0], penalty=parametros_1.loc['data3'][1])\n",
    "model4 = LogisticRegression(random_state=123, C=parametros_1.loc['data4'][0], penalty=parametros_1.loc['data4'][1])\n",
    "model5 = LogisticRegression(random_state=123, C=parametros_1.loc['data5'][0], penalty=parametros_1.loc['data5'][1])\n",
    "model6 = LogisticRegression(random_state=123, C=parametros_1.loc['data6'][0], penalty=parametros_1.loc['data6'][1])"
   ]
  },
  {
   "cell_type": "code",
   "execution_count": 10,
   "metadata": {},
   "outputs": [],
   "source": [
    "# Especificación de los inputs de la siguiente celda\n",
    "inputs = [\n",
    "    ('data1', data1, model1),\n",
    "    ('data2', data2, model2),\n",
    "    ('data3', data3, model3),\n",
    "    ('data4', data4, model4),\n",
    "    ('data5', data5, model5),\n",
    "    ('data6', data6, model6)\n",
    "]"
   ]
  },
  {
   "cell_type": "code",
   "execution_count": 11,
   "metadata": {
    "tags": []
   },
   "outputs": [],
   "source": [
    "# Ajuste de los modelos de primera línea\n",
    "for name, data, model in inputs:\n",
    "    model.fit(data, y)\n",
    "    predicciones[name] = model.predict_proba(data)[:,1]"
   ]
  },
  {
   "cell_type": "code",
   "execution_count": 12,
   "metadata": {},
   "outputs": [],
   "source": [
    "# Ajuste del meta modelo\n",
    "Mmodel = LogisticRegression(random_state=123,\n",
    "                            C=parametros_2['C'].iloc[0],\n",
    "                            penalty=parametros_2['penalty'].iloc[0])\n",
    "Mmodel.fit(predicciones, y)\n",
    "y_pred_proba = Mmodel.predict_proba(predicciones)[:,1]"
   ]
  },
  {
   "cell_type": "code",
   "execution_count": 13,
   "metadata": {
    "tags": []
   },
   "outputs": [
    {
     "output_type": "stream",
     "name": "stdout",
     "text": "Threshold=0.0033, F-Score=1.0000\n"
    }
   ],
   "source": [
    "# Función para transformar probabilidad en label\n",
    "def to_labels(y_pred_proba, threshold):\n",
    "\treturn (y_pred_proba >= threshold).astype('int')\n",
    "\n",
    "thresholds = np.linspace(0, 1, 300)\n",
    "\n",
    "# Optimización del threshold en base a F1 Score\n",
    "scores = [f1_score(y, to_labels(y_pred_proba, t)) for t in thresholds]\n",
    "ix = np.argmax(scores)\n",
    "print('Threshold=%.4f, F-Score=%.4f' % (thresholds[ix], scores[ix]))"
   ]
  },
  {
   "cell_type": "code",
   "execution_count": 14,
   "metadata": {},
   "outputs": [],
   "source": [
    "# Verificación de las predicciones\n",
    "y_pred = (y_pred_proba >= thresholds[ix]).astype(int)\n",
    "y_pred = pd.DataFrame({'y_pred': y_pred, 'y_pred_proba': y_pred_proba}, index=y.index)\n",
    "\n",
    "pred = pd.concat([y, y_pred], axis=1)\n",
    "pred['Accuracy'] = (pred['response']==pred['y_pred'])\n",
    "pred.to_csv('preds.csv')"
   ]
  },
  {
   "source": [
    "# Clasificación de las cartas de accionistas (párrafos)"
   ],
   "cell_type": "markdown",
   "metadata": {}
  },
  {
   "cell_type": "code",
   "execution_count": 15,
   "metadata": {},
   "outputs": [
    {
     "output_type": "execute_result",
     "data": {
      "text/plain": "   index     nombre industria                                        cargo  \\\n0      0  AES Gener   Energía  Presidente del Directorio y Gerente General   \n1      0  AES Gener   Energía  Presidente del Directorio y Gerente General   \n2      0  AES Gener   Energía  Presidente del Directorio y Gerente General   \n3      0  AES Gener   Energía  Presidente del Directorio y Gerente General   \n4      0  AES Gener   Energía  Presidente del Directorio y Gerente General   \n\n                                               carta       autor  \n0  La gestión oportuna de los impactos de la pand...  Presidente  \n1  Quisiera comenzar destacando que a pesar de qu...  Presidente  \n2  En nuestro objetivo de liderar la transformaci...  Presidente  \n3  Un hito relevante del Plan de 1.000 MW de proy...  Presidente  \n4  Los requerimientos que surgieron de este proce...  Presidente  ",
      "text/html": "<div>\n<style scoped>\n    .dataframe tbody tr th:only-of-type {\n        vertical-align: middle;\n    }\n\n    .dataframe tbody tr th {\n        vertical-align: top;\n    }\n\n    .dataframe thead th {\n        text-align: right;\n    }\n</style>\n<table border=\"1\" class=\"dataframe\">\n  <thead>\n    <tr style=\"text-align: right;\">\n      <th></th>\n      <th>index</th>\n      <th>nombre</th>\n      <th>industria</th>\n      <th>cargo</th>\n      <th>carta</th>\n      <th>autor</th>\n    </tr>\n  </thead>\n  <tbody>\n    <tr>\n      <th>0</th>\n      <td>0</td>\n      <td>AES Gener</td>\n      <td>Energía</td>\n      <td>Presidente del Directorio y Gerente General</td>\n      <td>La gestión oportuna de los impactos de la pand...</td>\n      <td>Presidente</td>\n    </tr>\n    <tr>\n      <th>1</th>\n      <td>0</td>\n      <td>AES Gener</td>\n      <td>Energía</td>\n      <td>Presidente del Directorio y Gerente General</td>\n      <td>Quisiera comenzar destacando que a pesar de qu...</td>\n      <td>Presidente</td>\n    </tr>\n    <tr>\n      <th>2</th>\n      <td>0</td>\n      <td>AES Gener</td>\n      <td>Energía</td>\n      <td>Presidente del Directorio y Gerente General</td>\n      <td>En nuestro objetivo de liderar la transformaci...</td>\n      <td>Presidente</td>\n    </tr>\n    <tr>\n      <th>3</th>\n      <td>0</td>\n      <td>AES Gener</td>\n      <td>Energía</td>\n      <td>Presidente del Directorio y Gerente General</td>\n      <td>Un hito relevante del Plan de 1.000 MW de proy...</td>\n      <td>Presidente</td>\n    </tr>\n    <tr>\n      <th>4</th>\n      <td>0</td>\n      <td>AES Gener</td>\n      <td>Energía</td>\n      <td>Presidente del Directorio y Gerente General</td>\n      <td>Los requerimientos que surgieron de este proce...</td>\n      <td>Presidente</td>\n    </tr>\n  </tbody>\n</table>\n</div>"
     },
     "metadata": {},
     "execution_count": 15
    }
   ],
   "source": [
    "parrafos = pd.read_csv('parrafos.csv')\n",
    "parrafos.head()"
   ]
  },
  {
   "cell_type": "code",
   "execution_count": 16,
   "metadata": {},
   "outputs": [],
   "source": [
    "pdata = [preprocess(t) for t in parrafos['carta']]"
   ]
  },
  {
   "cell_type": "code",
   "execution_count": 17,
   "metadata": {},
   "outputs": [],
   "source": [
    "# Vectorización\n",
    "vdat = vect1.transform(pdata)\n",
    "data1 = pd.DataFrame(vdat.toarray(), columns=vect1.get_feature_names())\n",
    "\n",
    "vdat = vect2.transform(pdata)\n",
    "data2 = pd.DataFrame(vdat.toarray(), columns=vect2.get_feature_names())\n",
    "\n",
    "data1sum = data1.sum(axis=1)\n",
    "data3 = data1.divide(data1sum, axis=0)\n",
    "\n",
    "data2sum = data2.sum(axis=1)\n",
    "data4 = data2.divide(data2sum, axis=0)\n",
    "\n",
    "vdat = vect5.transform(pdata)\n",
    "data5 = pd.DataFrame(vdat.toarray(), columns=vect5.get_feature_names())\n",
    "\n",
    "vdat = vect6.transform(pdata)\n",
    "data6 = pd.DataFrame(vdat.toarray(), columns=vect6.get_feature_names())"
   ]
  },
  {
   "cell_type": "code",
   "execution_count": 18,
   "metadata": {},
   "outputs": [],
   "source": [
    "# Especificación de los inputs de la siguiente celda\n",
    "inputs = [\n",
    "    ('data1', data1, model1),\n",
    "    ('data2', data2, model2),\n",
    "    ('data3', data3, model3),\n",
    "    ('data4', data4, model4),\n",
    "    ('data5', data5, model5),\n",
    "    ('data6', data6, model6)\n",
    "]"
   ]
  },
  {
   "cell_type": "code",
   "execution_count": 19,
   "metadata": {},
   "outputs": [],
   "source": [
    "# Predicciones de los modelos de primera línea\n",
    "predicciones = pd.DataFrame()\n",
    "\n",
    "for name, data, model in inputs:\n",
    "    predicciones[name] = model.predict_proba(data)[:,1]"
   ]
  },
  {
   "cell_type": "code",
   "execution_count": 20,
   "metadata": {},
   "outputs": [],
   "source": [
    "# Predicciones del meta modelo\n",
    "y_pred_proba = Mmodel.predict_proba(predicciones)[:,1]"
   ]
  },
  {
   "cell_type": "code",
   "execution_count": 21,
   "metadata": {},
   "outputs": [],
   "source": [
    "# Predicciones\n",
    "y_pred = (y_pred_proba >= thresholds[ix]).astype(int)\n",
    "y_pred = pd.DataFrame({'y_pred': y_pred, 'y_pred_proba': y_pred_proba}, index=parrafos.index)\n",
    "\n",
    "pred = pd.concat([parrafos, y_pred], axis=1)\n",
    "pred.to_csv('class_parrafos.csv', index=False)"
   ]
  },
  {
   "source": [
    "# Clasificación de las cartas de accionistas (cartas completas)"
   ],
   "cell_type": "markdown",
   "metadata": {}
  },
  {
   "cell_type": "code",
   "execution_count": 22,
   "metadata": {
    "tags": []
   },
   "outputs": [
    {
     "output_type": "stream",
     "name": "stdout",
     "text": "(41, 7)\n"
    },
    {
     "output_type": "execute_result",
     "data": {
      "text/plain": "  nemotecnico                 razon social          nombre          industria  \\\n0    AESGENER               AES GENER S.A.       AES Gener            Energía   \n1     AGUAS-A  AGUAS ANDINAS S.A., SERIE A   Aguas Andinas  Servicios Básicos   \n2     AGUAS-A  AGUAS ANDINAS S.A., SERIE A   Aguas Andinas  Servicios Básicos   \n3       CHILE               BANCO DE CHILE  Banco de Chile         Financiera   \n4       CHILE               BANCO DE CHILE  Banco de Chile         Financiera   \n\n                           autor                                        cargo  \\\n0  Julián Nebreda y Ricardo Falú  Presidente del Directorio y Gerente General   \n1                  Claudio Muñoz                    Presidente del Directorio   \n2                    Marta Colet                              Gerente General   \n3                  Pablo Granifo                    Presidente del Directorio   \n4            Eduardo Ebensperger                              Gerente General   \n\n                                               carta  \n0  La gestión oportuna de los impactos de la pand...  \n1  Como cada año, tengo el agrado de presentarles...  \n2  \"Sin duda, la pandemia por Covid-19 marcó nues...  \n3  Con gran orgullo y satisfacción me dirijo a us...  \n4  \"Me siento muy honrado de compartir con ustede...  ",
      "text/html": "<div>\n<style scoped>\n    .dataframe tbody tr th:only-of-type {\n        vertical-align: middle;\n    }\n\n    .dataframe tbody tr th {\n        vertical-align: top;\n    }\n\n    .dataframe thead th {\n        text-align: right;\n    }\n</style>\n<table border=\"1\" class=\"dataframe\">\n  <thead>\n    <tr style=\"text-align: right;\">\n      <th></th>\n      <th>nemotecnico</th>\n      <th>razon social</th>\n      <th>nombre</th>\n      <th>industria</th>\n      <th>autor</th>\n      <th>cargo</th>\n      <th>carta</th>\n    </tr>\n  </thead>\n  <tbody>\n    <tr>\n      <th>0</th>\n      <td>AESGENER</td>\n      <td>AES GENER S.A.</td>\n      <td>AES Gener</td>\n      <td>Energía</td>\n      <td>Julián Nebreda y Ricardo Falú</td>\n      <td>Presidente del Directorio y Gerente General</td>\n      <td>La gestión oportuna de los impactos de la pand...</td>\n    </tr>\n    <tr>\n      <th>1</th>\n      <td>AGUAS-A</td>\n      <td>AGUAS ANDINAS S.A., SERIE A</td>\n      <td>Aguas Andinas</td>\n      <td>Servicios Básicos</td>\n      <td>Claudio Muñoz</td>\n      <td>Presidente del Directorio</td>\n      <td>Como cada año, tengo el agrado de presentarles...</td>\n    </tr>\n    <tr>\n      <th>2</th>\n      <td>AGUAS-A</td>\n      <td>AGUAS ANDINAS S.A., SERIE A</td>\n      <td>Aguas Andinas</td>\n      <td>Servicios Básicos</td>\n      <td>Marta Colet</td>\n      <td>Gerente General</td>\n      <td>\"Sin duda, la pandemia por Covid-19 marcó nues...</td>\n    </tr>\n    <tr>\n      <th>3</th>\n      <td>CHILE</td>\n      <td>BANCO DE CHILE</td>\n      <td>Banco de Chile</td>\n      <td>Financiera</td>\n      <td>Pablo Granifo</td>\n      <td>Presidente del Directorio</td>\n      <td>Con gran orgullo y satisfacción me dirijo a us...</td>\n    </tr>\n    <tr>\n      <th>4</th>\n      <td>CHILE</td>\n      <td>BANCO DE CHILE</td>\n      <td>Banco de Chile</td>\n      <td>Financiera</td>\n      <td>Eduardo Ebensperger</td>\n      <td>Gerente General</td>\n      <td>\"Me siento muy honrado de compartir con ustede...</td>\n    </tr>\n  </tbody>\n</table>\n</div>"
     },
     "metadata": {},
     "execution_count": 22
    }
   ],
   "source": [
    "cartas = pd.read_csv('Cartas a los accionistas.csv')\n",
    "cartas = cartas.dropna().reset_index(drop=True)\n",
    "print(cartas.shape)\n",
    "cartas.head()"
   ]
  },
  {
   "cell_type": "code",
   "execution_count": 23,
   "metadata": {},
   "outputs": [],
   "source": [
    "pdata = [preprocess(t) for t in cartas['carta']]"
   ]
  },
  {
   "cell_type": "code",
   "execution_count": 24,
   "metadata": {},
   "outputs": [],
   "source": [
    "# Vectorización\n",
    "vdat = vect1.transform(pdata)\n",
    "data1 = pd.DataFrame(vdat.toarray(), columns=vect1.get_feature_names())\n",
    "\n",
    "vdat = vect2.transform(pdata)\n",
    "data2 = pd.DataFrame(vdat.toarray(), columns=vect2.get_feature_names())\n",
    "\n",
    "data1sum = data1.sum(axis=1)\n",
    "data3 = data1.divide(data1sum, axis=0)\n",
    "\n",
    "data2sum = data2.sum(axis=1)\n",
    "data4 = data2.divide(data2sum, axis=0)\n",
    "\n",
    "vdat = vect5.transform(pdata)\n",
    "data5 = pd.DataFrame(vdat.toarray(), columns=vect5.get_feature_names())\n",
    "\n",
    "vdat = vect6.transform(pdata)\n",
    "data6 = pd.DataFrame(vdat.toarray(), columns=vect6.get_feature_names())"
   ]
  },
  {
   "cell_type": "code",
   "execution_count": 25,
   "metadata": {},
   "outputs": [],
   "source": [
    "# Especificación de los inputs de la siguiente celda\n",
    "inputs = [\n",
    "    ('data1', data1, model1),\n",
    "    ('data2', data2, model2),\n",
    "    ('data3', data3, model3),\n",
    "    ('data4', data4, model4),\n",
    "    ('data5', data5, model5),\n",
    "    ('data6', data6, model6)\n",
    "]"
   ]
  },
  {
   "cell_type": "code",
   "execution_count": 26,
   "metadata": {
    "tags": []
   },
   "outputs": [],
   "source": [
    "# Predicciones de los modelos de primera línea\n",
    "predicciones = pd.DataFrame()\n",
    "\n",
    "for name, data, model in inputs:\n",
    "    predicciones[name] = model.predict_proba(data)[:,1]"
   ]
  },
  {
   "cell_type": "code",
   "execution_count": 27,
   "metadata": {},
   "outputs": [],
   "source": [
    "# Predicciones del meta modelo\n",
    "y_pred_proba = Mmodel.predict_proba(predicciones)[:,1]"
   ]
  },
  {
   "cell_type": "code",
   "execution_count": 28,
   "metadata": {},
   "outputs": [],
   "source": [
    "# Predicciones\n",
    "y_pred = (y_pred_proba >= thresholds[ix]).astype(int)\n",
    "y_pred = pd.DataFrame({'y_pred': y_pred, 'y_pred_proba': y_pred_proba}, index=cartas.index)\n",
    "\n",
    "pred = pd.concat([cartas, y_pred], axis=1)\n",
    "pred.to_csv('class_cartas.csv', index=False)"
   ]
  }
 ]
}