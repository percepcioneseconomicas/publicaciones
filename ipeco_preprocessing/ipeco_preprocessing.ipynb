{
 "metadata": {
  "language_info": {
   "codemirror_mode": {
    "name": "ipython",
    "version": 3
   },
   "file_extension": ".py",
   "mimetype": "text/x-python",
   "name": "python",
   "nbconvert_exporter": "python",
   "pygments_lexer": "ipython3",
   "version": "3.7.9-final"
  },
  "orig_nbformat": 2,
  "kernelspec": {
   "name": "python3",
   "display_name": "Python 3"
  }
 },
 "nbformat": 4,
 "nbformat_minor": 2,
 "cells": [
  {
   "cell_type": "code",
   "execution_count": 1,
   "metadata": {},
   "outputs": [],
   "source": [
    "import pandas as pd"
   ]
  },
  {
   "cell_type": "code",
   "execution_count": 2,
   "metadata": {},
   "outputs": [],
   "source": [
    "# Cargar datos del Ipeco\n",
    "data = pd.read_csv('https://raw.githubusercontent.com/percepcioneseconomicas/indices/main/CEEN%20UDD%20IPECO.csv', parse_dates=True, dayfirst=True, index_col='Fecha')\n",
    "data.columns = ['ipeco', 'coyuntura', 'expectativas', 'sea', 'da', 'sef', 'df', 'iif', 'ipecotm']"
   ]
  },
  {
   "cell_type": "code",
   "execution_count": 3,
   "metadata": {
    "tags": []
   },
   "outputs": [],
   "source": [
    "# Valores iniciales del Ipeco:\n",
    "ipeco0 = 0.564465028\n",
    "coyuntura0 = 0.375772273\n",
    "expectativas0 = 0.688636166\n",
    "sea0 = 0.503225806\n",
    "da0 = 0.241887388\n",
    "sef0 = 0.778145695\n",
    "df0 = 0.502857143\n",
    "iif0 = 0.78490566"
   ]
  },
  {
   "cell_type": "code",
   "execution_count": 4,
   "metadata": {},
   "outputs": [],
   "source": [
    "# Multiplicar por el valor inicial\n",
    "data['ipeco'] = data['ipeco']*ipeco0\n",
    "data['coyuntura'] = data['coyuntura']*coyuntura0\n",
    "data['expectativas'] = data['expectativas']*expectativas0\n",
    "data['sea'] = data['sea']*sea0\n",
    "data['da'] = data['da']*da0\n",
    "data['sef'] = data['sef']*sef0\n",
    "data['df'] = data['df']*df0\n",
    "data['iif'] = data['iif']*iif0\n",
    "data = data.drop('ipecotm', axis=1)"
   ]
  },
  {
   "cell_type": "code",
   "execution_count": 5,
   "metadata": {},
   "outputs": [],
   "source": [
    "# Crear un dataframe vacío, con fechas mensuales desde el inicio del Ipeco\n",
    "fecha = pd.date_range(start='2001-12-01', end='2021-02-01', freq='MS')\n",
    "ipeco = pd.DataFrame(index=fecha)"
   ]
  },
  {
   "cell_type": "code",
   "execution_count": 6,
   "metadata": {},
   "outputs": [],
   "source": [
    "# Fusionar las bases de datos\n",
    "# pd.set_option('display.max_rows', None) \n",
    "ipeco = ipeco.merge(data, how='left', left_index=True, right_index=True)"
   ]
  },
  {
   "cell_type": "code",
   "execution_count": 7,
   "metadata": {},
   "outputs": [],
   "source": [
    "# Datos a partir de mayo de 2005, en que el IPECO se empezó a publicar de manera mensual.\n",
    "data_nona = ipeco['2005-05-01':]"
   ]
  },
  {
   "cell_type": "code",
   "execution_count": 8,
   "metadata": {},
   "outputs": [],
   "source": [
    "# Datos en que los valores perdidos han sido reemplazados por estimaciones realizadas mediante interpolación lineal\n",
    "data_fillna = ipeco.interpolate(method='linear', limit_area='inside')"
   ]
  }
 ]
}